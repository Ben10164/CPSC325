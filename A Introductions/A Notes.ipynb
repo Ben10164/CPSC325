{
 "cells": [
  {
   "attachments": {},
   "cell_type": "markdown",
   "metadata": {},
   "source": [
    "# Opening Notes\n",
    "Some ideas for the semester long project:\n",
    "* quantify the amount of green in different zip codes:\n",
    "  * if you grow up in an area with green space, it affects your development\n",
    "  * manhatten vs south-hill spokane\n",
    "  * GIS data:\n",
    "    * geo spacial data collection\n",
    "    * Land cover classification\n",
    "      * classification!\n",
    "    * Google Earth Engine\n",
    "      * there is a python sdk\n",
    "      * wow this looks awesome what the\n",
    "  * Google Cloud Computing Foundations\n",
    "* Go online and learn a new skill for the project\n",
    "  * maybe a music/midi usage in python\n",
    "* offline (runs on machine with static, nondynamic data)\n",
    "* Online (streams data and gives realtime predicitons)\n",
    "  * the simplified steps:\n",
    "    * data ingestion\n",
    "    * prepare the data (the glue)\n",
    "    * ML pipeline\n",
    "\n",
    "\n",
    "\n",
    "\n",
    "* PubSub\n",
    "  * its a publish subscribe model\n",
    "  * google cloud pubsub\n",
    "* Google bigquery, a column database that you can use SQL to query it\n",
    "  * seems cool\n",
    "\n",
    "\n",
    "Cloud stuff is expensive lol\n"
   ]
  },
  {
   "attachments": {},
   "cell_type": "markdown",
   "metadata": {},
   "source": [
    "# Lambda Functions"
   ]
  },
  {
   "cell_type": "markdown",
   "id": "c5605214-f21a-4501-b736-001334aeb697",
   "metadata": {},
   "source": [
    "* A lambda function is a function that has no name (hence, an anonymous/nameless function) that you can pass around in your code to be executed at a later time\n",
    "    * Lambda functions are single line statements that typically return some value, e.g. `lambda x: x + 1`\n",
    "    * They are often used for performing short operations/data manipulations\n",
    "    * Lambda functions start with the keyword lambda and then we specify our parameter list and a :  to separate the \"header\" from the body\n",
    "    * Example:"
   ]
  },
  {
   "cell_type": "code",
   "execution_count": 2,
   "metadata": {},
   "outputs": [
    {
     "name": "stdout",
     "output_type": "stream",
     "text": [
      "<class 'function'> <class 'function'> True\n",
      "10\n"
     ]
    }
   ],
   "source": [
    "def mydouble(x):\n",
    "    return 2 * x\n",
    "\n",
    "myfunc = mydouble\n",
    "print(type(mydouble), type(myfunc), mydouble == myfunc)\n",
    "print(myfunc(5))"
   ]
  },
  {
   "cell_type": "code",
   "execution_count": 3,
   "id": "00e9622c-9519-4f3c-b8c2-668bfd2af469",
   "metadata": {},
   "outputs": [
    {
     "name": "stdout",
     "output_type": "stream",
     "text": [
      "saying: hello\n",
      "from lambda: hello\n"
     ]
    }
   ],
   "source": [
    "def say(message):\n",
    "    print(\"saying:\", message)\n",
    "\n",
    "# define another function that can execute any one string argument and void function it is passed\n",
    "def executeVoidFunction(f):\n",
    "    f(\"hello\")  # execute f\n",
    "    \n",
    "# call executeVoidFunction() passing in sayHello\n",
    "executeVoidFunction(say)\n",
    "# call executeVoidFunction() passing in a lambda function\n",
    "executeVoidFunction(lambda x: print(\"from lambda:\", x))"
   ]
  },
  {
   "cell_type": "code",
   "execution_count": 6,
   "metadata": {},
   "outputs": [
    {
     "name": "stdout",
     "output_type": "stream",
     "text": [
      "[3, 4, 5]\n",
      "[6, 8, 10]\n",
      "[3, 5]\n",
      "12\n",
      "Now the same stuff, but using lambda functions\n",
      "orig list: [3, 4, 5]\n",
      "map double to each elem: [6, 8, 10]\n",
      "filter each elem by odd: [3, 5]\n",
      "reduce elems to total value: 12\n"
     ]
    }
   ],
   "source": [
    "# map: maps a function onto each element in a list\n",
    "nums = [3,4,5]\n",
    "print(nums)\n",
    "nums2 = map(mydouble, nums) # function declared earlier in the notebook\n",
    "print(list(nums2))\n",
    "\n",
    "# Filter\n",
    "def odd(x):\n",
    "    return x % 2 == 1\n",
    "nums3 = filter(odd, nums)\n",
    "print(list(nums3))\n",
    "\n",
    "# reduce\n",
    "from functools import reduce\n",
    "def total(total_so_far, x):\n",
    "    return total_so_far + x\n",
    "result = reduce(total, nums)\n",
    "print(result)\n",
    "\n",
    "\n",
    "print(\"Now the same stuff, but using lambda functions\")\n",
    "\n",
    "# now using lambda functions:\n",
    "nums = [3, 4, 5]\n",
    "print(\"orig list:\", nums)\n",
    "# map a function to each elem in a list\n",
    "nums2 = map(lambda x: 2 * x, nums)\n",
    "print(\"map double to each elem:\", list(nums2))\n",
    "\n",
    "# filter elems in a list by some criteria\n",
    "nums3 = filter(lambda x: x % 2 == 1, nums)\n",
    "print(\"filter each elem by odd:\", list(nums3))\n",
    "\n",
    "# reduce elems in a list to a single value\n",
    "from functools import reduce\n",
    "result = reduce(lambda total_so_far, x: total_so_far + x, nums)\n",
    "print(\"reduce elems to total value:\", result)\n"
   ]
  }
 ],
 "metadata": {
  "kernelspec": {
   "display_name": "Anaconda",
   "language": "python",
   "name": "python3"
  },
  "language_info": {
   "codemirror_mode": {
    "name": "ipython",
    "version": 3
   },
   "file_extension": ".py",
   "mimetype": "text/x-python",
   "name": "python",
   "nbconvert_exporter": "python",
   "pygments_lexer": "ipython3",
   "version": "3.9.15"
  },
  "orig_nbformat": 4,
  "vscode": {
   "interpreter": {
    "hash": "ac9ecc204c73f6a490250e71f923af0f203648fcc4dfbbe5933863b0d7e2344d"
   }
  }
 },
 "nbformat": 4,
 "nbformat_minor": 2
}
