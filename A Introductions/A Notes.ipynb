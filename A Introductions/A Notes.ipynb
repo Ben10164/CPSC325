{
 "cells": [
  {
   "attachments": {},
   "cell_type": "markdown",
   "metadata": {},
   "source": [
    "# Opening Notes\n",
    "Some ideas for the semester long project:\n",
    "* quantify the amount of green in different zip codes:\n",
    "  * if you grow up in an area with green space, it affects your development\n",
    "  * manhatten vs south-hill spokane\n",
    "  * GIS data:\n",
    "    * geo spacial data collection\n",
    "    * Land cover classification\n",
    "      * classification!\n",
    "    * Google Earth Engine\n",
    "      * there is a python sdk\n",
    "      * wow this looks awesome what the\n",
    "  * Google Cloud Computing Foundations\n",
    "* Go online and learn a new skill for the project\n",
    "  * maybe a music/midi usage in python\n",
    "* offline (runs on machine with static, nondynamic data)\n",
    "* Online (streams data and gives realtime predicitons)\n",
    "  * the simplified steps:\n",
    "    * data ingestion\n",
    "    * prepare the data (the glue)\n",
    "    * ML pipeline\n",
    "\n",
    "\n",
    "\n",
    "\n",
    "* PubSub\n",
    "  * its a publish subscribe model\n",
    "  * google cloud pubsub\n",
    "* Google bigquery, a column database that you can use SQL to query it\n",
    "  * seems cool\n",
    "\n",
    "\n",
    "Cloud stuff is expensive lol\n"
   ]
  },
  {
   "attachments": {},
   "cell_type": "markdown",
   "metadata": {},
   "source": [
    "# Lambda Functions"
   ]
  },
  {
   "cell_type": "markdown",
   "id": "c5605214-f21a-4501-b736-001334aeb697",
   "metadata": {},
   "source": [
    "* A lambda function is a function that has no name (hence, an anonymous/nameless function) that you can pass around in your code to be executed at a later time\n",
    "    * Lambda functions are single line statements that typically return some value, e.g. `lambda x: x + 1`\n",
    "    * They are often used for performing short operations/data manipulations\n",
    "    * Lambda functions start with the keyword lambda and then we specify our parameter list and a :  to separate the \"header\" from the body\n",
    "    * Example:"
   ]
  },
  {
   "cell_type": "code",
   "execution_count": 5,
   "metadata": {},
   "outputs": [
    {
     "name": "stdout",
     "output_type": "stream",
     "text": [
      "<class 'function'> <class 'function'> True\n",
      "10\n"
     ]
    }
   ],
   "source": [
    "def mydouble(x):\n",
    "    return 2 * x\n",
    "\n",
    "myfunc = mydouble\n",
    "print(type(mydouble), type(myfunc), mydouble == myfunc)\n",
    "print(myfunc(5))"
   ]
  },
  {
   "cell_type": "code",
   "execution_count": 6,
   "id": "00e9622c-9519-4f3c-b8c2-668bfd2af469",
   "metadata": {},
   "outputs": [
    {
     "name": "stdout",
     "output_type": "stream",
     "text": [
      "saying: hello\n",
      "from lambda: hello\n"
     ]
    }
   ],
   "source": [
    "def say(message):\n",
    "    print(\"saying:\", message)\n",
    "\n",
    "# define another function that can execute any one string argument and void function it is passed\n",
    "def executeVoidFunction(f):\n",
    "    f(\"hello\")  # execute f\n",
    "    \n",
    "# call executeVoidFunction() passing in sayHello\n",
    "executeVoidFunction(say)\n",
    "# call executeVoidFunction() passing in a lambda function\n",
    "executeVoidFunction(lambda x: print(\"from lambda:\", x))"
   ]
  },
  {
   "cell_type": "code",
   "execution_count": 12,
   "metadata": {},
   "outputs": [
    {
     "ename": "SyntaxError",
     "evalue": "invalid syntax (1716112405.py, line 50)",
     "output_type": "error",
     "traceback": [
      "\u001b[0;36m  Cell \u001b[0;32mIn[12], line 50\u001b[0;36m\u001b[0m\n\u001b[0;31m    result = reduce(lambda total_so_far, nums) # DO THIS\u001b[0m\n\u001b[0m                                             ^\u001b[0m\n\u001b[0;31mSyntaxError\u001b[0m\u001b[0;31m:\u001b[0m invalid syntax\n"
     ]
    }
   ],
   "source": [
    "#lambda functions:\n",
    "\n",
    "# Lamda functions are functions that have no names\n",
    "\n",
    "\n",
    "\n",
    "# map: maps a function onto each element in a list\n",
    "nums = [3,4,5]\n",
    "print(nums)\n",
    "nums2 = map(mydouble, nums)\n",
    "print(list(nums2))\n",
    "\n",
    "# Filter\n",
    "def odd(x):\n",
    "    return x % 2 == 1\n",
    "nums3 = filter(odd, nums)\n",
    "print(list(nums3))\n",
    "\n",
    "# reduce\n",
    "from functools import reduce\n",
    "def total(total_so_far, x):\n",
    "    return total_so_far + x\n",
    "result = reduce(total, nums)\n",
    "\n",
    "\n",
    "\n",
    "\n",
    "#lambda functions:\n",
    "\n",
    "# Lamda functions are functions that have no names\n",
    "\n",
    "\n",
    "\n",
    "# map: maps a function onto each element in a list\n",
    "nums = [3,4,5]\n",
    "print(nums)\n",
    "nums2 = map(lambda x: 2 * x, nums)\n",
    "print(list(nums2))\n",
    "\n",
    "# Filter\n",
    "def odd(x):\n",
    "    return x % 2 == 1\n",
    "nums3 = filter(lambda x : x % 2, nums)\n",
    "print(list(nums3))\n",
    "\n",
    "# reduce\n",
    "from functools import reduce\n",
    "def total(total_so_far, x):\n",
    "    return total_so_far + x\n",
    "result = reduce(lambda total_so_far, nums) # DO THIS\n"
   ]
  }
 ],
 "metadata": {
  "kernelspec": {
   "display_name": "base",
   "language": "python",
   "name": "python3"
  },
  "language_info": {
   "codemirror_mode": {
    "name": "ipython",
    "version": 3
   },
   "file_extension": ".py",
   "mimetype": "text/x-python",
   "name": "python",
   "nbconvert_exporter": "python",
   "pygments_lexer": "ipython3",
   "version": "3.9.15"
  },
  "orig_nbformat": 4,
  "vscode": {
   "interpreter": {
    "hash": "5f8c5c8ab154ffd7b7cf769370d90abd279d12a3d937a702f83e9fc02204b3d3"
   }
  }
 },
 "nbformat": 4,
 "nbformat_minor": 2
}
