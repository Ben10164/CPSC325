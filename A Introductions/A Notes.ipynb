{
 "cells": [
  {
   "attachments": {},
   "cell_type": "markdown",
   "metadata": {},
   "source": [
    "# Opening Notes\n",
    "Some ideas for the semester long project:\n",
    "* quantify the amount of green in different zip codes:\n",
    "  * if you grow up in an area with green space, it affects your development\n",
    "  * manhatten vs south-hill spokane\n",
    "  * GIS data:\n",
    "    * geo spacial data collection\n",
    "    * Land cover classification\n",
    "      * classification!\n",
    "    * Google Earth Engine\n",
    "      * there is a python sdk\n",
    "      * wow this looks awesome what the\n",
    "  * Google Cloud Computing Foundations\n",
    "* Go online and learn a new skill for the project\n",
    "  * maybe a music/midi usage in python\n",
    "* offline (runs on machine with static, nondynamic data)\n",
    "* Online (streams data and gives realtime predicitons)\n",
    "  * the simplified steps:\n",
    "    * data ingestion\n",
    "    * prepare the data (the glue)\n",
    "    * ML pipeline\n",
    "\n",
    "\n",
    "\n",
    "\n",
    "* PubSub\n",
    "  * its a publish subscribe model\n",
    "  * google cloud pubsub\n",
    "* Google bigquery, a column database that you can use SQL to query it\n",
    "  * seems cool\n",
    "\n",
    "\n",
    "Cloud stuff is expensive lol\n"
   ]
  },
  {
   "attachments": {},
   "cell_type": "markdown",
   "metadata": {},
   "source": [
    "# Lambda Functions"
   ]
  },
  {
   "cell_type": "markdown",
   "id": "c5605214-f21a-4501-b736-001334aeb697",
   "metadata": {},
   "source": [
    "* A lambda function is a function that has no name (hence, an anonymous/nameless function) that you can pass around in your code to be executed at a later time\n",
    "    * Lambda functions are single line statements that typically return some value, e.g. `lambda x: x + 1`\n",
    "    * They are often used for performing short operations/data manipulations\n",
    "    * Lambda functions start with the keyword lambda and then we specify our parameter list and a :  to separate the \"header\" from the body\n",
    "    * Example:"
   ]
  },
  {
   "cell_type": "code",
   "execution_count": 6,
   "metadata": {},
   "outputs": [
    {
     "name": "stdout",
     "output_type": "stream",
     "text": [
      "<class 'function'> <class 'function'> True\n",
      "10\n"
     ]
    }
   ],
   "source": [
    "def mydouble(x):\n",
    "    return 2 * x\n",
    "\n",
    "myfunc = mydouble\n",
    "print(type(mydouble), type(myfunc), mydouble == myfunc)\n",
    "print(myfunc(5))"
   ]
  },
  {
   "cell_type": "code",
   "execution_count": 7,
   "id": "00e9622c-9519-4f3c-b8c2-668bfd2af469",
   "metadata": {},
   "outputs": [
    {
     "name": "stdout",
     "output_type": "stream",
     "text": [
      "saying: hello\n",
      "from lambda: hello\n"
     ]
    }
   ],
   "source": [
    "def say(message):\n",
    "    print(\"saying:\", message)\n",
    "\n",
    "# define another function that can execute any one string argument and void function it is passed\n",
    "def executeVoidFunction(f):\n",
    "    f(\"hello\")  # execute f\n",
    "    \n",
    "# call executeVoidFunction() passing in sayHello\n",
    "executeVoidFunction(say)\n",
    "# call executeVoidFunction() passing in a lambda function\n",
    "executeVoidFunction(lambda x: print(\"from lambda:\", x))"
   ]
  },
  {
   "cell_type": "code",
   "execution_count": 8,
   "metadata": {},
   "outputs": [
    {
     "name": "stdout",
     "output_type": "stream",
     "text": [
      "[3, 4, 5]\n",
      "[6, 8, 10]\n",
      "[3, 5]\n",
      "12\n"
     ]
    }
   ],
   "source": [
    "# map: maps a function onto each element in a list\n",
    "nums = [3,4,5]\n",
    "print(nums)\n",
    "nums2 = map(mydouble, nums) # function declared earlier in the notebook\n",
    "print(list(nums2))\n",
    "\n",
    "# Filter\n",
    "def odd(x):\n",
    "    return x % 2 == 1\n",
    "nums3 = filter(odd, nums)\n",
    "print(list(nums3))\n",
    "\n",
    "# reduce\n",
    "from functools import reduce\n",
    "def total(total_so_far, x):\n",
    "    return total_so_far + x\n",
    "result = reduce(total, nums)\n",
    "print(result)"
   ]
  },
  {
   "cell_type": "code",
   "execution_count": 9,
   "metadata": {},
   "outputs": [
    {
     "name": "stdout",
     "output_type": "stream",
     "text": [
      "Now the same stuff, but using lambda functions\n",
      "orig list: [3, 4, 5]\n",
      "map double to each elem: [6, 8, 10]\n",
      "filter each elem by odd: [3, 5]\n",
      "reduce elems to total value: 12\n"
     ]
    }
   ],
   "source": [
    "print(\"Now the same stuff, but using lambda functions\")\n",
    "\n",
    "# now using lambda functions:\n",
    "nums = [3, 4, 5]\n",
    "print(\"orig list:\", nums)\n",
    "# map a function to each elem in a list\n",
    "nums2 = map(lambda x: 2 * x, nums)\n",
    "print(\"map double to each elem:\", list(nums2))\n",
    "\n",
    "# filter elems in a list by some criteria\n",
    "nums3 = filter(lambda x: x % 2 == 1, nums)\n",
    "print(\"filter each elem by odd:\", list(nums3))\n",
    "\n",
    "# reduce elems in a list to a single value\n",
    "from functools import reduce\n",
    "result = reduce(lambda total_so_far, x: total_so_far + x, nums)\n",
    "print(\"reduce elems to total value:\", result)"
   ]
  },
  {
   "attachments": {},
   "cell_type": "markdown",
   "metadata": {},
   "source": [
    "### Practice Problems\n",
    "```python\n",
    "nums = [1, 2, 3, 4, 5]\n",
    "sentence = [\"the\", \"quick\", \"brown\", \"fox\", \"jumps\", \"over\", \"the\", \"lazy\", \"dog\"]\n",
    "```\n",
    "1. Use a lambda function to create a new list of nums converted to floats\n",
    "1. Use a lambda function to create a new list of only the even integers in nums\n",
    "1. Use a lambda function to compute the product of the integers in nums\n",
    "1. Use a lambda function to create a list of only the words containing the letter “o”\n",
    "1. Use a lambda function to create a list of the words in all caps\n",
    "1. Use a lambda function to create a string containing only the first letters of each word\n",
    "1. Read the documentation for the built-in function [sorted(key)](https://docs.python.org/3/library/functions.html#sorted). Use a lambda function to create a list of the words sorted from shortest word to longest word\n"
   ]
  },
  {
   "cell_type": "code",
   "execution_count": 10,
   "metadata": {},
   "outputs": [
    {
     "name": "stdout",
     "output_type": "stream",
     "text": [
      "[1.0, 2.0, 3.0, 4.0, 5.0]\n",
      "[2, 4]\n",
      "120\n",
      "['brown', 'fox', 'over', 'dog']\n",
      "['THE', 'QUICK', 'BROWN', 'FOX', 'JUMPS', 'OVER', 'THE', 'LAZY', 'DOG']\n",
      "tqbfjotld\n",
      "['the', 'fox', 'the', 'dog', 'over', 'lazy', 'quick', 'brown', 'jumps']\n"
     ]
    }
   ],
   "source": [
    "nums = [1, 2, 3, 4, 5]\n",
    "\n",
    "# 1.\n",
    "nums2 = list(map(lambda x: float(x), nums))\n",
    "print(nums2)\n",
    "\n",
    "# 2.\n",
    "nums3 = list(filter(lambda x: x % 2 == 0, nums))\n",
    "print(nums3)\n",
    "\n",
    "# 3. \n",
    "prod = reduce(lambda prod_so_far, x: prod_so_far * x, nums)\n",
    "print(prod)\n",
    "\n",
    "sentence = [\"the\", \"quick\", \"brown\", \"fox\", \"jumps\", \"over\", \"the\", \"lazy\", \"dog\"]\n",
    "\n",
    "# 4. \n",
    "o_words = list(filter(lambda x: \"o\" in x, sentence))\n",
    "print(o_words)\n",
    "\n",
    "# 5. \n",
    "caps = list(map(lambda x: x.upper(), sentence))\n",
    "print(caps)\n",
    "\n",
    "# 6. \n",
    "first_letters = reduce(lambda str_so_far, x: str_so_far + x[0], sentence, \"\")\n",
    "print(first_letters)\n",
    "\n",
    "# 7. \n",
    "sorted_by_length = sorted(sentence, key=lambda x: len(x))\n",
    "print(sorted_by_length)"
   ]
  },
  {
   "attachments": {},
   "cell_type": "markdown",
   "metadata": {},
   "source": [
    "## FAST NOTES Community water system - leak location challenge\n",
    "they put in a new meter, and you can view overnight flows; 30 gal/min as a low, 44ish at a high\n",
    "\n",
    "there must be a leak...\n",
    "\n",
    "they found a section\n",
    "\n",
    "\n",
    "Listening!!\n",
    "7 feet under the ground\n",
    "echo, stethoscope\n",
    "\n",
    "they found the place, and the street was a bit sunken in\n",
    "\n",
    "\n",
    "he also heard something slightly in another place,\n",
    "\n",
    "but they fixed the obv one, and now it is consistent\n",
    "\n",
    "\n",
    "The job is to find the smaller leaks without relying on holes \n",
    "by listening!!!\n",
    "\n",
    "\n",
    "Identify two types of water leaks\n",
    "- household parasitic (toilets, faucets, etc)\n",
    "- street-side leaks, which homes may be closer to system leaks"
   ]
  }
 ],
 "metadata": {
  "kernelspec": {
   "display_name": "Anaconda",
   "language": "python",
   "name": "python3"
  },
  "language_info": {
   "codemirror_mode": {
    "name": "ipython",
    "version": 3
   },
   "file_extension": ".py",
   "mimetype": "text/x-python",
   "name": "python",
   "nbconvert_exporter": "python",
   "pygments_lexer": "ipython3",
   "version": "3.9.16"
  },
  "orig_nbformat": 4,
  "vscode": {
   "interpreter": {
    "hash": "ac9ecc204c73f6a490250e71f923af0f203648fcc4dfbbe5933863b0d7e2344d"
   }
  }
 },
 "nbformat": 4,
 "nbformat_minor": 2
}
